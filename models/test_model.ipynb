{
 "cells": [
  {
   "cell_type": "code",
   "execution_count": null,
   "metadata": {},
   "outputs": [],
   "source": [
    "%pip install openai\n",
    "from openai import OpenAI\n",
    "from pathlib import Path\n",
    "import pandas as pd\n",
    "import numpy as np\n",
    "import os"
   ]
  },
  {
   "cell_type": "code",
   "execution_count": null,
   "metadata": {},
   "outputs": [],
   "source": [
    "client = OpenAI(\n",
    "    api_key = \"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\",\n",
    "    base_url = \"https://openrouter.ai/api/v1\",\n",
    ")"
   ]
  },
  {
   "cell_type": "code",
   "execution_count": null,
   "metadata": {},
   "outputs": [],
   "source": [
    "def get_context(file_path):\n",
    "    with open(file_path, \"r\", encoding=\"utf-8\") as f:\n",
    "        file = f.read()\n",
    "    chat_completion = client.chat.completions.create(\n",
    "        messages=[\n",
    "            {\n",
    "                \"role\": \"user\",\n",
    "                \"content\": \"Read me this file of my java springboot application in the variable \" + file + \" and describe the functionality and context of the code written in the file\"\n",
    "            }\n",
    "        ],\n",
    "        model=\"deepseek/deepseek-r1-distill-llama-70b:free\",\n",
    "        stream=False,\n",
    "    )\n",
    "    return chat_completion.choices[0].message.content"
   ]
  },
  {
   "cell_type": "code",
   "execution_count": null,
   "metadata": {},
   "outputs": [],
   "source": [
    "controllers = os.listdir(\"../code/src/main/java/net/engineeringdigest/journalApp/controller\")\n",
    "entities = os.listdir(\"../code/src/main/java/net/engineeringdigest/journalApp/entity\")\n",
    "repositories = os.listdir(\"../code/src/main/java/net/engineeringdigest/journalApp/repository\")\n",
    "services = os.listdir(\"../code/src/main/java/net/engineeringdigest/journalApp/service\")\n",
    "app_path = \"../code/src/main/java/net/engineeringdigest/journalApp/JournalApplication.java\"\n",
    "context_path = \"../code/src/main/resources/application.properties\"\n",
    "\n",
    "context_output_path = \"../context_files/controllers_context.txt\"\n",
    "functionality_output_path = \"../context_files/functionalities.txt\"\n",
    "tests_output_path = \"../context_files/test_cases.txt\""
   ]
  },
  {
   "cell_type": "code",
   "execution_count": null,
   "metadata": {},
   "outputs": [],
   "source": [
    "context_output = \"CONTROLLER CONTEXT\\n\\n\"\n",
    "for controller in controllers:\n",
    "    context_output += \"CONTROLLER: \" + controller + \"\\n\\n\"\n",
    "    context_output += get_context(\"../code/src/main/java/net/engineeringdigest/journalApp/controller/\" + controller) + \"\\n\\n\"\n",
    "\n",
    "context_output += \"ENTITY CONTEXT\\n\\n\"\n",
    "for entity in entities:\n",
    "    context_output += \"ENTITY: \" + entity + \"\\n\\n\"\n",
    "    context_output += get_context(\"../code/src/main/java/net/engineeringdigest/journalApp/entity/\" + entity) + \"\\n\\n\"\n",
    "\n",
    "context_output += \"REPOSITORY CONTEXT\\n\\n\"\n",
    "for repository in repositories:\n",
    "    context_output += \"REPOSITORY: \" + repository + \"\\n\\n\"\n",
    "    context_output += get_context(\"../code/src/main/java/net/engineeringdigest/journalApp/repository/\" + repository) + \"\\n\\n\"\n",
    "\n",
    "context_output += \"SERVICE CONTEXT\\n\\n\"\n",
    "for service in services:\n",
    "    context_output += \"SERVICE: \" + service + \"\\n\\n\"\n",
    "    context_output += get_context(\"../code/src/main/java/net/engineeringdigest/journalApp/service/\" + service) + \"\\n\\n\"\n",
    "\n",
    "context_output += \"APPLICATION CONTEXT\\n\\n\"\n",
    "context_output += get_context(app_path) + \"\\n\\n\"\n",
    "\n",
    "context_output += \"APPLICATION PROPERTIES CONTEXT\\n\\n\"\n",
    "context_output += get_context(context_path) + \"\\n\\n\""
   ]
  },
  {
   "cell_type": "code",
   "execution_count": null,
   "metadata": {},
   "outputs": [],
   "source": [
    "open(context_output_path, \"w\", encoding=\"utf-8\").write(context_output)"
   ]
  },
  {
   "cell_type": "code",
   "execution_count": null,
   "metadata": {},
   "outputs": [],
   "source": [
    "chat_completion = client.chat.completions.create(\n",
    "        messages=[\n",
    "            {\n",
    "                \"role\": \"user\",\n",
    "                \"content\": \"Read me this file the code context and file structure of my java springboot project application in the variable \" + context_output + \" and make a list of all functionalties and map each functionality to all the files that have context for it/implements it\"\n",
    "            }\n",
    "        ],\n",
    "        model=\"deepseek/deepseek-r1-distill-llama-70b:free\",\n",
    "        stream=False,\n",
    "    )\n",
    "open(functionality_output_path, \"w\", encoding=\"utf-8\").write(chat_completion.choices[0].message.content)"
   ]
  },
  {
   "cell_type": "code",
   "execution_count": null,
   "metadata": {},
   "outputs": [],
   "source": [
    "chat_completion = client.chat.completions.create(\n",
    "        messages=[\n",
    "            {\n",
    "                \"role\": \"user\",\n",
    "                \"content\": \"Read me this file with the code context and file structure of my java springboot project application in the variable \" + context_output + \" and make a list of all functionalties. Then write functional test cases for each functionality including success and failure scenarios and all edge cases in the format of step_definition files as well as .feature files containing the scenarios. I need it in the Cucumber format with complete working implementations of the step_definition files and feature files with all scenarios enlisted under example tables.\"\n",
    "            }\n",
    "        ],\n",
    "        model=\"deepseek/deepseek-r1-distill-llama-70b:free\",\n",
    "        stream=False,\n",
    "        temperature=0\n",
    "    )\n",
    "open(tests_output_path, \"w\", encoding=\"utf-8\").write(chat_completion.choices[0].message.content)"
   ]
  },
  {
   "cell_type": "code",
   "execution_count": null,
   "metadata": {},
   "outputs": [],
   "source": [
    "import re\n",
    "\n",
    "# Define the base directory for the test cases\n",
    "base_dir = \"../test_cases\"\n",
    "features_dir = os.path.join(base_dir, \"features\")\n",
    "step_definitions_dir = os.path.join(features_dir, \"step_definitions\")\n",
    "\n",
    "# Ensure the directories exist\n",
    "os.makedirs(features_dir, exist_ok=True)\n",
    "os.makedirs(step_definitions_dir, exist_ok=True)\n",
    "\n",
    "# Read the content of the text file\n",
    "with open(\"../context_files/test_cases.txt\", \"r\", encoding=\"utf-8\") as file:\n",
    "    content = file.read()\n",
    "\n",
    "# Regex patterns to extract feature files and step definitions\n",
    "feature_pattern = r\"\\*\\*File:\\*\\* `(.*?)`\\n\\n```gherkin\\n(.*?)```\"\n",
    "step_def_pattern = r\"\\*\\*Step Definition:\\*\\* `(.*?)`\\n\\n```java\\n(.*?)```\"\n",
    "\n",
    "# Extract and create feature files\n",
    "for match in re.finditer(feature_pattern, content, re.DOTALL):\n",
    "    feature_file_name = match.group(1)\n",
    "    feature_content = match.group(2)\n",
    "    feature_file_path = os.path.join(features_dir, feature_file_name)\n",
    "\n",
    "    # Write the feature file\n",
    "    with open(feature_file_path, \"w\", encoding=\"utf-8\") as feature_file:\n",
    "        feature_file.write(feature_content)\n",
    "    print(f\"Created feature file: {feature_file_path}\")\n",
    "\n",
    "# Extract and create step definition files\n",
    "for match in re.finditer(step_def_pattern, content, re.DOTALL):\n",
    "    step_def_file_name = match.group(1)\n",
    "    step_def_content = match.group(2)\n",
    "    step_def_file_path = os.path.join(step_definitions_dir, step_def_file_name)\n",
    "\n",
    "    # Write the step definition file\n",
    "    with open(step_def_file_path, \"w\", encoding=\"utf-8\") as step_def_file:\n",
    "        step_def_file.write(step_def_content)\n",
    "    print(f\"Created step definition file: {step_def_file_path}\")\n",
    "\n",
    "print(\"All files have been created successfully.\")"
   ]
  }
 ],
 "metadata": {
  "kernelspec": {
   "display_name": "Python 3",
   "language": "python",
   "name": "python3"
  },
  "language_info": {
   "codemirror_mode": {
    "name": "ipython",
    "version": 3
   },
   "file_extension": ".py",
   "mimetype": "text/x-python",
   "name": "python",
   "nbconvert_exporter": "python",
   "pygments_lexer": "ipython3",
   "version": "3.10.11"
  }
 },
 "nbformat": 4,
 "nbformat_minor": 2
}
